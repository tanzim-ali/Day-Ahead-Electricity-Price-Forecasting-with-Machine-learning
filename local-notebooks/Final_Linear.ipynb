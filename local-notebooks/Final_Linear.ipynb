{
 "cells": [
  {
   "cell_type": "code",
   "execution_count": 1,
   "metadata": {},
   "outputs": [],
   "source": [
    "import pandas as pd\n",
    "from sklearn.linear_model import LinearRegression\n",
    "from sklearn.metrics import mean_absolute_error, mean_squared_error\n",
    "import numpy as np"
   ]
  },
  {
   "cell_type": "code",
   "execution_count": 2,
   "metadata": {},
   "outputs": [],
   "source": [
    "# Load the datasets\n",
    "train_df = pd.read_csv('/Users/alitahseen/Desktop/FYP-2024/Machine_learning/Datafiles/Final_Train.csv')\n",
    "test_df = pd.read_csv('/Users/alitahseen/Desktop/FYP-2024/Machine_learning/Datafiles/Final_test.csv')\n",
    "validation_df = pd.read_csv('/Users/alitahseen/Desktop/FYP-2024/Machine_learning/Datafiles/Final_Validation.csv')"
   ]
  },
  {
   "cell_type": "code",
   "execution_count": 3,
   "metadata": {},
   "outputs": [],
   "source": [
    "# Function to preprocess datasets\n",
    "def preprocess_data(df):\n",
    "    df['local_time'] = pd.to_datetime(df['local_time'])\n",
    "    for time_unit in ['Year', 'Month', 'Day', 'Hour']:\n",
    "        df[time_unit] = getattr(df['local_time'].dt, time_unit.lower())\n",
    "    return df.drop('local_time', axis=1)"
   ]
  },
  {
   "cell_type": "code",
   "execution_count": 4,
   "metadata": {},
   "outputs": [],
   "source": [
    "# Preprocess all datasets\n",
    "train_df = preprocess_data(train_df)\n",
    "test_df = preprocess_data(test_df)\n",
    "validation_df = preprocess_data(validation_df)"
   ]
  },
  {
   "cell_type": "code",
   "execution_count": 5,
   "metadata": {},
   "outputs": [],
   "source": [
    "# Preparing the feature sets and target variables\n",
    "def get_features_targets(df):\n",
    "    X = df[['Year', 'Month', 'Day', 'Hour', 'Average_Temp']]\n",
    "    y = df['MW']\n",
    "    return X, y\n",
    "\n",
    "X_train, y_train = get_features_targets(train_df)\n",
    "X_validation, y_validation = get_features_targets(validation_df)\n",
    "X_test, y_test = get_features_targets(test_df)"
   ]
  },
  {
   "cell_type": "code",
   "execution_count": 6,
   "metadata": {},
   "outputs": [
    {
     "data": {
      "text/plain": [
       "['/Users/alitahseen/Desktop/FYP-2024/Machine_learning/notebooks/Trained_Models/best_linear_model.joblib']"
      ]
     },
     "execution_count": 6,
     "metadata": {},
     "output_type": "execute_result"
    }
   ],
   "source": [
    "# Train Linear Regression model\n",
    "linear_model = LinearRegression()\n",
    "linear_model.fit(X_train, y_train)\n",
    "from joblib import dump\n",
    "# Save the model to a file\n",
    "model_filename = '/Users/alitahseen/Desktop/FYP-2024/Machine_learning/notebooks/Trained_Models/best_linear_model.joblib'\n",
    "dump(linear_model, model_filename)"
   ]
  },
  {
   "cell_type": "code",
   "execution_count": 7,
   "metadata": {},
   "outputs": [],
   "source": [
    "# Evaluation Function\n",
    "\n",
    "def calculate_metrics(actual, predicted, lower_bound=0, upper_bound=100, iqr_multiplier=1.5):\n",
    "    # Exclude negative actual values if considered invalid\n",
    "    valid_indices = actual > lower_bound\n",
    "    actual = actual[valid_indices]\n",
    "    predicted = predicted[valid_indices]\n",
    "\n",
    "    # Calculate MAE and RMSE\n",
    "    mae = mean_absolute_error(actual, predicted)\n",
    "    rmse = np.sqrt(mean_squared_error(actual, predicted))\n",
    "\n",
    "    # Thresholding for outlier exclusion based on IQR\n",
    "    q1, q3 = np.percentile(actual, [25, 75])\n",
    "    iqr = q3 - q1\n",
    "    outlier_threshold_upper = q3 + (iqr * iqr_multiplier)\n",
    "    outlier_threshold_lower = q1 - (iqr * iqr_multiplier)\n",
    "\n",
    "    valid_indices_for_mape = (actual >= outlier_threshold_lower) & (actual <= outlier_threshold_upper)\n",
    "    filtered_actual = actual[valid_indices_for_mape]\n",
    "    filtered_predicted = predicted[valid_indices_for_mape]\n",
    "\n",
    "    # Calculate Modified MAPE with capped at 100%\n",
    "    if len(filtered_actual) > 0:\n",
    "        percentage_errors = np.abs((filtered_predicted - filtered_actual) / filtered_actual) * 100\n",
    "        percentage_errors = np.clip(percentage_errors, None, upper_bound)  # Cap percentage errors at upper_bound (100%)\n",
    "        mape = np.mean(percentage_errors)\n",
    "    else:\n",
    "        mape = np.nan\n",
    "\n",
    "    # Calculate sMAPE\n",
    "    smape = 100/len(actual) * np.sum(2 * np.abs(predicted - actual) / (np.abs(actual) + np.abs(predicted)))\n",
    "\n",
    "    return mae, mape, smape, rmse\n",
    "\n",
    "\n"
   ]
  },
  {
   "cell_type": "code",
   "execution_count": 8,
   "metadata": {},
   "outputs": [],
   "source": [
    "from joblib import load\n",
    "model_filename = '/Users/alitahseen/Desktop/FYP-2024/Machine_learning/notebooks/Trained_Models/best_linear_model.joblib'\n",
    "best_model_linear_loaded = load(model_filename)"
   ]
  },
  {
   "cell_type": "code",
   "execution_count": 9,
   "metadata": {},
   "outputs": [
    {
     "name": "stdout",
     "output_type": "stream",
     "text": [
      "Validation Metrics (MAE, MAPE, sMAPE,RMSE): (75.79197668848386, 85.09078779618001, 84.3008952284445, 84.12205921214898)\n"
     ]
    }
   ],
   "source": [
    "# Predict and evaluate on validation set first for model tuning\n",
    "predictions_validation = best_model_linear_loaded.predict(X_validation)\n",
    "metrics_validation = calculate_metrics(y_validation, predictions_validation)\n",
    "print(\"Validation Metrics (MAE, MAPE, sMAPE,RMSE):\", metrics_validation)"
   ]
  },
  {
   "cell_type": "code",
   "execution_count": 10,
   "metadata": {},
   "outputs": [
    {
     "name": "stdout",
     "output_type": "stream",
     "text": [
      "Test Metrics (MAE, MAPE, sMAPE,RMSE): (78.41283999573636, 95.1169071411801, 86.35687098266693, 80.92504929276569)\n"
     ]
    }
   ],
   "source": [
    "# Predict on the test set using the linear model\n",
    "predictions_test_linear = best_model_linear_loaded.predict(X_test)\n",
    "metrics_test_linear = calculate_metrics(y_test, predictions_test_linear)\n",
    "print(\"Test Metrics (MAE, MAPE, sMAPE,RMSE):\", metrics_test_linear)"
   ]
  }
 ],
 "metadata": {
  "kernelspec": {
   "display_name": "venv",
   "language": "python",
   "name": "python3"
  },
  "language_info": {
   "codemirror_mode": {
    "name": "ipython",
    "version": 3
   },
   "file_extension": ".py",
   "mimetype": "text/x-python",
   "name": "python",
   "nbconvert_exporter": "python",
   "pygments_lexer": "ipython3",
   "version": "3.9.6"
  }
 },
 "nbformat": 4,
 "nbformat_minor": 2
}

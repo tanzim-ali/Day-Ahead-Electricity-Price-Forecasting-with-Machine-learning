{
 "cells": [
  {
   "cell_type": "code",
   "execution_count": 1,
   "metadata": {},
   "outputs": [],
   "source": [
    "import pandas as pd\n",
    "from sklearn.linear_model import LinearRegression\n",
    "from sklearn.metrics import mean_absolute_error, mean_squared_error\n",
    "import numpy as np"
   ]
  },
  {
   "cell_type": "code",
   "execution_count": 2,
   "metadata": {},
   "outputs": [],
   "source": [
    "# Loading the datasets\n",
    "train_df = pd.read_csv('/Users/alitahseen/Desktop/FYP-2024/Machine_learning/Datafiles/Final_Train.csv')\n",
    "test_df = pd.read_csv('/Users/alitahseen/Desktop/FYP-2024/Machine_learning/Datafiles/Final_test.csv')\n",
    "validation_df = pd.read_csv('/Users/alitahseen/Desktop/FYP-2024/Machine_learning/Datafiles/Final_Validation.csv')"
   ]
  },
  {
   "cell_type": "code",
   "execution_count": 3,
   "metadata": {},
   "outputs": [],
   "source": [
    "def encode_cyclical_features(df, column, max_val):\n",
    "    df[column + '_sin'] = np.sin(2 * np.pi * df[column] / max_val)\n",
    "    df[column + '_cos'] = np.cos(2 * np.pi * df[column] / max_val)\n",
    "    return df"
   ]
  },
  {
   "cell_type": "code",
   "execution_count": 4,
   "metadata": {},
   "outputs": [],
   "source": [
    "def preprocess_data(df):\n",
    "    df['local_time'] = pd.to_datetime(df['local_time'])\n",
    "    \n",
    "    for time_unit in ['Year', 'Month', 'Day', 'Hour']:\n",
    "        df[time_unit] = getattr(df['local_time'].dt, time_unit.lower())\n",
    "    \n",
    "    # Cyclical time encoding\n",
    "    df = encode_cyclical_features(df, 'Hour', 24) \n",
    "    df = encode_cyclical_features(df, 'Month', 12) \n",
    "\n",
    "    # Temperature interactions\n",
    "    df['Temp_Hour_interaction'] = df['Average_Temp'] * df['Hour']\n",
    "    \n",
    "    df['Is_weekend'] = df['local_time'].dt.dayofweek >= 5 \n",
    "    \n",
    "    return df \n"
   ]
  },
  {
   "cell_type": "code",
   "execution_count": 5,
   "metadata": {},
   "outputs": [],
   "source": [
    "# Applying preprocessing to all datasets\n",
    "train_df = preprocess_data(train_df)\n",
    "validation_df = preprocess_data(validation_df)\n",
    "test_df = preprocess_data(test_df)\n"
   ]
  },
  {
   "cell_type": "code",
   "execution_count": 6,
   "metadata": {},
   "outputs": [
    {
     "name": "stdout",
     "output_type": "stream",
     "text": [
      "Index(['local_time', 'Average_Temp', 'MW', 'Year', 'Month', 'Day', 'Hour',\n",
      "       'Hour_sin', 'Hour_cos', 'Month_sin', 'Month_cos',\n",
      "       'Temp_Hour_interaction', 'Is_weekend'],\n",
      "      dtype='object')\n"
     ]
    }
   ],
   "source": [
    "print(train_df.columns)\n"
   ]
  },
  {
   "cell_type": "code",
   "execution_count": 7,
   "metadata": {},
   "outputs": [
    {
     "name": "stdout",
     "output_type": "stream",
     "text": [
      "Column 'Hour_sin' exists.\n"
     ]
    }
   ],
   "source": [
    "if 'Hour_sin' not in train_df.columns:\n",
    "    print(\"Column 'Hour_sin' is missing from the DataFrame.\")\n",
    "else:\n",
    "    print(\"Column 'Hour_sin' exists.\")\n"
   ]
  },
  {
   "cell_type": "code",
   "execution_count": 8,
   "metadata": {},
   "outputs": [],
   "source": [
    "# Preparing the feature sets and target variables\n",
    "def get_features_targets(df):\n",
    "    feature_columns = [\n",
    "        'Year', 'Month', 'Day', 'Hour', 'Average_Temp',\n",
    "        'Hour_sin', 'Hour_cos', 'Month_sin', 'Month_cos',\n",
    "        'Temp_Hour_interaction', 'Is_weekend'\n",
    "    ]\n",
    "\n",
    "    X = df[feature_columns]\n",
    "    y = df['MW']\n",
    "    return X, y\n",
    "\n",
    "\n",
    "X_train, y_train = get_features_targets(train_df)\n",
    "X_validation, y_validation = get_features_targets(validation_df)\n",
    "X_test, y_test = get_features_targets(test_df)"
   ]
  },
  {
   "cell_type": "code",
   "execution_count": 9,
   "metadata": {},
   "outputs": [
    {
     "data": {
      "text/plain": [
       "['/Users/alitahseen/Desktop/FYP-2024/Machine_learning/notebooks/Trained_Models/best_linear_model_V2.joblib']"
      ]
     },
     "execution_count": 9,
     "metadata": {},
     "output_type": "execute_result"
    }
   ],
   "source": [
    "# Training Linear Regression model\n",
    "linear_model = LinearRegression()\n",
    "linear_model.fit(X_train, y_train)\n",
    "from joblib import dump\n",
    "# Save the model to a file\n",
    "model_filename = '/Users/alitahseen/Desktop/FYP-2024/Machine_learning/notebooks/Trained_Models/best_linear_model_V2.joblib'\n",
    "dump(linear_model, model_filename)"
   ]
  },
  {
   "cell_type": "code",
   "execution_count": 10,
   "metadata": {},
   "outputs": [],
   "source": [
    "# Evaluation Function\n",
    "\n",
    "def calculate_metrics(actual, predicted, lower_bound=0, upper_bound=100, iqr_multiplier=1.5):\n",
    "    # Excluding negative actual values if considered invalid\n",
    "    valid_indices = actual > lower_bound\n",
    "    actual = actual[valid_indices]\n",
    "    predicted = predicted[valid_indices]\n",
    "\n",
    "    # Calculate MAE and RMSE\n",
    "    mae = mean_absolute_error(actual, predicted)\n",
    "    rmse = np.sqrt(mean_squared_error(actual, predicted))\n",
    "\n",
    "    # Thresholding for outlier exclusion based on IQR\n",
    "    q1, q3 = np.percentile(actual, [25, 75])\n",
    "    iqr = q3 - q1\n",
    "    outlier_threshold_upper = q3 + (iqr * iqr_multiplier)\n",
    "    outlier_threshold_lower = q1 - (iqr * iqr_multiplier)\n",
    "\n",
    "    valid_indices_for_mape = (actual >= outlier_threshold_lower) & (actual <= outlier_threshold_upper)\n",
    "    filtered_actual = actual[valid_indices_for_mape]\n",
    "    filtered_predicted = predicted[valid_indices_for_mape]\n",
    "\n",
    "    # Calculate Modified MAPE with capped at 100%\n",
    "    if len(filtered_actual) > 0:\n",
    "        percentage_errors = np.abs((filtered_predicted - filtered_actual) / filtered_actual) * 100\n",
    "        percentage_errors = np.clip(percentage_errors, None, upper_bound)  # Cap percentage errors at upper_bound (100%)\n",
    "        mape = np.mean(percentage_errors)\n",
    "    else:\n",
    "        mape = np.nan\n",
    "\n",
    "    # Calculate sMAPE\n",
    "    smape = 100/len(actual) * np.sum(2 * np.abs(predicted - actual) / (np.abs(actual) + np.abs(predicted)))\n",
    "\n",
    "    return mae, mape, smape, rmse\n"
   ]
  },
  {
   "cell_type": "code",
   "execution_count": 11,
   "metadata": {},
   "outputs": [],
   "source": [
    "from joblib import load\n",
    "model_filename = '/Users/alitahseen/Desktop/FYP-2024/Machine_learning/notebooks/Trained_Models/best_linear_model_V2.joblib'\n",
    "best_model_linear_loaded = load(model_filename)"
   ]
  },
  {
   "cell_type": "code",
   "execution_count": 12,
   "metadata": {},
   "outputs": [
    {
     "name": "stdout",
     "output_type": "stream",
     "text": [
      "Validation Metrics (MAE, MAPE, sMAPE,RMSE): (75.0344600157248, 85.83057887566707, 83.76433512725217, 83.81089126045917)\n"
     ]
    }
   ],
   "source": [
    "# Predict and evaluate on validation set first for model tuning\n",
    "predictions_validation = best_model_linear_loaded.predict(X_validation)\n",
    "metrics_validation = calculate_metrics(y_validation, predictions_validation)\n",
    "print(\"Validation Metrics (MAE, MAPE, sMAPE,RMSE):\", metrics_validation)"
   ]
  },
  {
   "cell_type": "code",
   "execution_count": 13,
   "metadata": {},
   "outputs": [
    {
     "name": "stdout",
     "output_type": "stream",
     "text": [
      "Test Metrics (MAE, MAPE, sMAPE,RMSE): (81.23796174295089, 94.19657939640605, 87.71737284516794, 84.60999316255155)\n"
     ]
    }
   ],
   "source": [
    "# Predict on the test set using the linear model\n",
    "predictions_test_linear = best_model_linear_loaded.predict(X_test)\n",
    "metrics_test_linear = calculate_metrics(y_test, predictions_test_linear)\n",
    "print(\"Test Metrics (MAE, MAPE, sMAPE,RMSE):\", metrics_test_linear)\n"
   ]
  }
 ],
 "metadata": {
  "kernelspec": {
   "display_name": "venv",
   "language": "python",
   "name": "python3"
  },
  "language_info": {
   "codemirror_mode": {
    "name": "ipython",
    "version": 3
   },
   "file_extension": ".py",
   "mimetype": "text/x-python",
   "name": "python",
   "nbconvert_exporter": "python",
   "pygments_lexer": "ipython3",
   "version": "3.9.6"
  }
 },
 "nbformat": 4,
 "nbformat_minor": 2
}

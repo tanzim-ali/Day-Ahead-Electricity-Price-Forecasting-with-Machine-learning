{
 "cells": [
  {
   "cell_type": "code",
   "execution_count": 1,
   "metadata": {},
   "outputs": [],
   "source": [
    "import pandas as pd\n",
    "from sklearn.metrics import mean_absolute_error, mean_squared_error\n",
    "import numpy as np"
   ]
  },
  {
   "cell_type": "code",
   "execution_count": 2,
   "metadata": {},
   "outputs": [],
   "source": [
    "# Loading the datasets\n",
    "train_df = pd.read_csv('/Users/alitahseen/Desktop/FYP-2024/Machine_learning/Datafiles/Final_Train.csv')\n",
    "test_df = pd.read_csv('/Users/alitahseen/Desktop/FYP-2024/Machine_learning/Datafiles/Final_test.csv')\n",
    "validation_df = pd.read_csv('/Users/alitahseen/Desktop/FYP-2024/Machine_learning/Datafiles/Final_Validation.csv')"
   ]
  },
  {
   "cell_type": "code",
   "execution_count": 3,
   "metadata": {},
   "outputs": [],
   "source": [
    "# Function to preprocess datasets\n",
    "def preprocess_data(df):\n",
    "    df['local_time'] = pd.to_datetime(df['local_time'])\n",
    "    for time_unit in ['Year', 'Month', 'Day', 'Hour']:\n",
    "        df[time_unit] = getattr(df['local_time'].dt, time_unit.lower())\n",
    "    return df.drop('local_time', axis=1)"
   ]
  },
  {
   "cell_type": "code",
   "execution_count": 4,
   "metadata": {},
   "outputs": [],
   "source": [
    "# Preprocess all datasets\n",
    "train_df = preprocess_data(train_df)\n",
    "test_df = preprocess_data(test_df)\n",
    "validation_df = preprocess_data(validation_df)\n",
    "\n",
    "def add_lagged_features(df, n_lags=3):\n",
    "    for lag in range(1, n_lags + 1):\n",
    "        df[f'Average_Temp_lag_{lag}'] = df['Average_Temp'].shift(lag)\n",
    "    return df.dropna().reset_index(drop=True)\n",
    "\n",
    "train_df = add_lagged_features(train_df)\n",
    "validation_df = add_lagged_features(validation_df)\n",
    "test_df = add_lagged_features(test_df)\n"
   ]
  },
  {
   "cell_type": "code",
   "execution_count": 5,
   "metadata": {},
   "outputs": [],
   "source": [
    "# Prepare the feature sets and target variables\n",
    "def get_features_targets(df):\n",
    "    feature_cols = ['Year', 'Month', 'Day', 'Hour', 'Average_Temp'] + [f'Average_Temp_lag_{lag}' for lag in range(1, 4)]  # Assuming 3 lags\n",
    "    X = df[feature_cols]\n",
    "    y = df['MW']\n",
    "    return X, y\n",
    "\n",
    "\n",
    "X_train, y_train = get_features_targets(train_df)\n",
    "X_validation, y_validation = get_features_targets(validation_df)\n",
    "X_test, y_test = get_features_targets(test_df)"
   ]
  },
  {
   "cell_type": "code",
   "execution_count": 6,
   "metadata": {},
   "outputs": [],
   "source": [
    "# Evaluation Function\n",
    "\n",
    "def calculate_metrics(actual, predicted, lower_bound=0, upper_bound=100, iqr_multiplier=1.5):\n",
    "    # Ignoring negative actual values if considered invalid\n",
    "    valid_indices = actual > lower_bound\n",
    "    actual = actual[valid_indices]\n",
    "    predicted = predicted[valid_indices]\n",
    "\n",
    "    # Calculate MAE and RMSE\n",
    "    mae = mean_absolute_error(actual, predicted)\n",
    "    rmse = np.sqrt(mean_squared_error(actual, predicted))\n",
    "\n",
    "    # Thresholding for outlier exclusion based on IQR\n",
    "    q1, q3 = np.percentile(actual, [25, 75])\n",
    "    iqr = q3 - q1\n",
    "    outlier_threshold_upper = q3 + (iqr * iqr_multiplier)\n",
    "    outlier_threshold_lower = q1 - (iqr * iqr_multiplier)\n",
    "\n",
    "    valid_indices_for_mape = (actual >= outlier_threshold_lower) & (actual <= outlier_threshold_upper)\n",
    "    filtered_actual = actual[valid_indices_for_mape]\n",
    "    filtered_predicted = predicted[valid_indices_for_mape]\n",
    "\n",
    "    # Calculate Modified MAPE with capped at 100%\n",
    "    if len(filtered_actual) > 0:\n",
    "        percentage_errors = np.abs((filtered_predicted - filtered_actual) / filtered_actual) * 100\n",
    "        percentage_errors = np.clip(percentage_errors, None, upper_bound)  # Cap percentage errors at upper_bound (100%)\n",
    "        mape = np.mean(percentage_errors)\n",
    "    else:\n",
    "        mape = np.nan\n",
    "\n",
    "    # Calculate sMAPE\n",
    "    smape = 100/len(actual) * np.sum(2 * np.abs(predicted - actual) / (np.abs(actual) + np.abs(predicted)))\n",
    "\n",
    "    return mae, mape, smape, rmse\n"
   ]
  },
  {
   "cell_type": "code",
   "execution_count": 7,
   "metadata": {},
   "outputs": [
    {
     "name": "stdout",
     "output_type": "stream",
     "text": [
      "Fitting 10 folds for each of 8 candidates, totalling 80 fits\n"
     ]
    },
    {
     "name": "stderr",
     "output_type": "stream",
     "text": [
      "/Users/alitahseen/Desktop/FYP-2024/Machine_learning/venv/lib/python3.9/site-packages/sklearn/linear_model/_coordinate_descent.py:628: ConvergenceWarning: Objective did not converge. You might want to increase the number of iterations, check the scale of the features or consider increasing regularisation. Duality gap: 2.024e+07, tolerance: 6.414e+03\n",
      "  model = cd_fast.enet_coordinate_descent(\n",
      "/Users/alitahseen/Desktop/FYP-2024/Machine_learning/venv/lib/python3.9/site-packages/sklearn/linear_model/_coordinate_descent.py:628: ConvergenceWarning: Objective did not converge. You might want to increase the number of iterations, check the scale of the features or consider increasing regularisation. Duality gap: 2.499e+07, tolerance: 6.903e+03\n",
      "  model = cd_fast.enet_coordinate_descent(\n",
      "/Users/alitahseen/Desktop/FYP-2024/Machine_learning/venv/lib/python3.9/site-packages/sklearn/linear_model/_coordinate_descent.py:628: ConvergenceWarning: Objective did not converge. You might want to increase the number of iterations, check the scale of the features or consider increasing regularisation. Duality gap: 2.369e+07, tolerance: 6.902e+03\n",
      "  model = cd_fast.enet_coordinate_descent(\n",
      "/Users/alitahseen/Desktop/FYP-2024/Machine_learning/venv/lib/python3.9/site-packages/sklearn/linear_model/_coordinate_descent.py:628: ConvergenceWarning: Objective did not converge. You might want to increase the number of iterations, check the scale of the features or consider increasing regularisation. Duality gap: 2.407e+07, tolerance: 7.074e+03\n",
      "  model = cd_fast.enet_coordinate_descent(\n",
      "/Users/alitahseen/Desktop/FYP-2024/Machine_learning/venv/lib/python3.9/site-packages/sklearn/linear_model/_coordinate_descent.py:628: ConvergenceWarning: Objective did not converge. You might want to increase the number of iterations, check the scale of the features or consider increasing regularisation. Duality gap: 2.358e+07, tolerance: 7.125e+03\n",
      "  model = cd_fast.enet_coordinate_descent(\n",
      "/Users/alitahseen/Desktop/FYP-2024/Machine_learning/venv/lib/python3.9/site-packages/sklearn/linear_model/_coordinate_descent.py:628: ConvergenceWarning: Objective did not converge. You might want to increase the number of iterations, check the scale of the features or consider increasing regularisation. Duality gap: 2.454e+07, tolerance: 7.035e+03\n",
      "  model = cd_fast.enet_coordinate_descent(\n",
      "/Users/alitahseen/Desktop/FYP-2024/Machine_learning/venv/lib/python3.9/site-packages/sklearn/linear_model/_coordinate_descent.py:628: ConvergenceWarning: Objective did not converge. You might want to increase the number of iterations, check the scale of the features or consider increasing regularisation. Duality gap: 2.463e+07, tolerance: 7.036e+03\n",
      "  model = cd_fast.enet_coordinate_descent(\n",
      "/Users/alitahseen/Desktop/FYP-2024/Machine_learning/venv/lib/python3.9/site-packages/sklearn/linear_model/_coordinate_descent.py:628: ConvergenceWarning: Objective did not converge. You might want to increase the number of iterations, check the scale of the features or consider increasing regularisation. Duality gap: 2.346e+07, tolerance: 7.049e+03\n",
      "  model = cd_fast.enet_coordinate_descent(\n",
      "/Users/alitahseen/Desktop/FYP-2024/Machine_learning/venv/lib/python3.9/site-packages/sklearn/linear_model/_coordinate_descent.py:628: ConvergenceWarning: Objective did not converge. You might want to increase the number of iterations, check the scale of the features or consider increasing regularisation. Duality gap: 1.733e+07, tolerance: 5.541e+03\n",
      "  model = cd_fast.enet_coordinate_descent(\n",
      "/Users/alitahseen/Desktop/FYP-2024/Machine_learning/venv/lib/python3.9/site-packages/sklearn/linear_model/_coordinate_descent.py:628: ConvergenceWarning: Objective did not converge. You might want to increase the number of iterations, check the scale of the features or consider increasing regularisation. Duality gap: 1.187e+07, tolerance: 3.354e+03\n",
      "  model = cd_fast.enet_coordinate_descent(\n",
      "/Users/alitahseen/Desktop/FYP-2024/Machine_learning/venv/lib/python3.9/site-packages/sklearn/linear_model/_coordinate_descent.py:628: ConvergenceWarning: Objective did not converge. You might want to increase the number of iterations, check the scale of the features or consider increasing regularisation. Duality gap: 4.482e+06, tolerance: 6.414e+03\n",
      "  model = cd_fast.enet_coordinate_descent(\n",
      "/Users/alitahseen/Desktop/FYP-2024/Machine_learning/venv/lib/python3.9/site-packages/sklearn/linear_model/_coordinate_descent.py:628: ConvergenceWarning: Objective did not converge. You might want to increase the number of iterations, check the scale of the features or consider increasing regularisation. Duality gap: 1.769e+07, tolerance: 6.903e+03\n",
      "  model = cd_fast.enet_coordinate_descent(\n",
      "/Users/alitahseen/Desktop/FYP-2024/Machine_learning/venv/lib/python3.9/site-packages/sklearn/linear_model/_coordinate_descent.py:628: ConvergenceWarning: Objective did not converge. You might want to increase the number of iterations, check the scale of the features or consider increasing regularisation. Duality gap: 1.366e+07, tolerance: 6.902e+03\n",
      "  model = cd_fast.enet_coordinate_descent(\n",
      "/Users/alitahseen/Desktop/FYP-2024/Machine_learning/venv/lib/python3.9/site-packages/sklearn/linear_model/_coordinate_descent.py:628: ConvergenceWarning: Objective did not converge. You might want to increase the number of iterations, check the scale of the features or consider increasing regularisation. Duality gap: 1.066e+07, tolerance: 7.074e+03\n",
      "  model = cd_fast.enet_coordinate_descent(\n",
      "/Users/alitahseen/Desktop/FYP-2024/Machine_learning/venv/lib/python3.9/site-packages/sklearn/linear_model/_coordinate_descent.py:628: ConvergenceWarning: Objective did not converge. You might want to increase the number of iterations, check the scale of the features or consider increasing regularisation. Duality gap: 1.668e+07, tolerance: 7.125e+03\n",
      "  model = cd_fast.enet_coordinate_descent(\n",
      "/Users/alitahseen/Desktop/FYP-2024/Machine_learning/venv/lib/python3.9/site-packages/sklearn/linear_model/_coordinate_descent.py:628: ConvergenceWarning: Objective did not converge. You might want to increase the number of iterations, check the scale of the features or consider increasing regularisation. Duality gap: 1.473e+07, tolerance: 7.035e+03\n",
      "  model = cd_fast.enet_coordinate_descent(\n",
      "/Users/alitahseen/Desktop/FYP-2024/Machine_learning/venv/lib/python3.9/site-packages/sklearn/linear_model/_coordinate_descent.py:628: ConvergenceWarning: Objective did not converge. You might want to increase the number of iterations, check the scale of the features or consider increasing regularisation. Duality gap: 1.777e+07, tolerance: 7.036e+03\n",
      "  model = cd_fast.enet_coordinate_descent(\n",
      "/Users/alitahseen/Desktop/FYP-2024/Machine_learning/venv/lib/python3.9/site-packages/sklearn/linear_model/_coordinate_descent.py:628: ConvergenceWarning: Objective did not converge. You might want to increase the number of iterations, check the scale of the features or consider increasing regularisation. Duality gap: 6.119e+06, tolerance: 7.049e+03\n",
      "  model = cd_fast.enet_coordinate_descent(\n",
      "/Users/alitahseen/Desktop/FYP-2024/Machine_learning/venv/lib/python3.9/site-packages/sklearn/linear_model/_coordinate_descent.py:628: ConvergenceWarning: Objective did not converge. You might want to increase the number of iterations, check the scale of the features or consider increasing regularisation. Duality gap: 5.390e+06, tolerance: 5.541e+03\n",
      "  model = cd_fast.enet_coordinate_descent(\n",
      "/Users/alitahseen/Desktop/FYP-2024/Machine_learning/venv/lib/python3.9/site-packages/sklearn/linear_model/_coordinate_descent.py:628: ConvergenceWarning: Objective did not converge. You might want to increase the number of iterations, check the scale of the features or consider increasing regularisation. Duality gap: 7.217e+06, tolerance: 3.354e+03\n",
      "  model = cd_fast.enet_coordinate_descent(\n",
      "/Users/alitahseen/Desktop/FYP-2024/Machine_learning/venv/lib/python3.9/site-packages/sklearn/linear_model/_coordinate_descent.py:628: ConvergenceWarning: Objective did not converge. You might want to increase the number of iterations, check the scale of the features or consider increasing regularisation. Duality gap: 1.147e+05, tolerance: 6.414e+03\n",
      "  model = cd_fast.enet_coordinate_descent(\n",
      "/Users/alitahseen/Desktop/FYP-2024/Machine_learning/venv/lib/python3.9/site-packages/sklearn/linear_model/_coordinate_descent.py:628: ConvergenceWarning: Objective did not converge. You might want to increase the number of iterations, check the scale of the features or consider increasing regularisation. Duality gap: 9.671e+05, tolerance: 6.903e+03\n",
      "  model = cd_fast.enet_coordinate_descent(\n",
      "/Users/alitahseen/Desktop/FYP-2024/Machine_learning/venv/lib/python3.9/site-packages/sklearn/linear_model/_coordinate_descent.py:628: ConvergenceWarning: Objective did not converge. You might want to increase the number of iterations, check the scale of the features or consider increasing regularisation. Duality gap: 4.649e+05, tolerance: 6.902e+03\n",
      "  model = cd_fast.enet_coordinate_descent(\n",
      "/Users/alitahseen/Desktop/FYP-2024/Machine_learning/venv/lib/python3.9/site-packages/sklearn/linear_model/_coordinate_descent.py:628: ConvergenceWarning: Objective did not converge. You might want to increase the number of iterations, check the scale of the features or consider increasing regularisation. Duality gap: 3.357e+05, tolerance: 7.074e+03\n",
      "  model = cd_fast.enet_coordinate_descent(\n",
      "/Users/alitahseen/Desktop/FYP-2024/Machine_learning/venv/lib/python3.9/site-packages/sklearn/linear_model/_coordinate_descent.py:628: ConvergenceWarning: Objective did not converge. You might want to increase the number of iterations, check the scale of the features or consider increasing regularisation. Duality gap: 8.236e+05, tolerance: 7.125e+03\n",
      "  model = cd_fast.enet_coordinate_descent(\n",
      "/Users/alitahseen/Desktop/FYP-2024/Machine_learning/venv/lib/python3.9/site-packages/sklearn/linear_model/_coordinate_descent.py:628: ConvergenceWarning: Objective did not converge. You might want to increase the number of iterations, check the scale of the features or consider increasing regularisation. Duality gap: 5.389e+05, tolerance: 7.035e+03\n",
      "  model = cd_fast.enet_coordinate_descent(\n",
      "/Users/alitahseen/Desktop/FYP-2024/Machine_learning/venv/lib/python3.9/site-packages/sklearn/linear_model/_coordinate_descent.py:628: ConvergenceWarning: Objective did not converge. You might want to increase the number of iterations, check the scale of the features or consider increasing regularisation. Duality gap: 9.892e+05, tolerance: 7.036e+03\n",
      "  model = cd_fast.enet_coordinate_descent(\n",
      "/Users/alitahseen/Desktop/FYP-2024/Machine_learning/venv/lib/python3.9/site-packages/sklearn/linear_model/_coordinate_descent.py:628: ConvergenceWarning: Objective did not converge. You might want to increase the number of iterations, check the scale of the features or consider increasing regularisation. Duality gap: 1.803e+05, tolerance: 7.049e+03\n",
      "  model = cd_fast.enet_coordinate_descent(\n",
      "/Users/alitahseen/Desktop/FYP-2024/Machine_learning/venv/lib/python3.9/site-packages/sklearn/linear_model/_coordinate_descent.py:628: ConvergenceWarning: Objective did not converge. You might want to increase the number of iterations, check the scale of the features or consider increasing regularisation. Duality gap: 1.543e+05, tolerance: 5.541e+03\n",
      "  model = cd_fast.enet_coordinate_descent(\n",
      "/Users/alitahseen/Desktop/FYP-2024/Machine_learning/venv/lib/python3.9/site-packages/sklearn/linear_model/_coordinate_descent.py:628: ConvergenceWarning: Objective did not converge. You might want to increase the number of iterations, check the scale of the features or consider increasing regularisation. Duality gap: 6.897e+05, tolerance: 3.354e+03\n",
      "  model = cd_fast.enet_coordinate_descent(\n",
      "/Users/alitahseen/Desktop/FYP-2024/Machine_learning/venv/lib/python3.9/site-packages/sklearn/linear_model/_coordinate_descent.py:628: ConvergenceWarning: Objective did not converge. You might want to increase the number of iterations, check the scale of the features or consider increasing regularisation. Duality gap: 1.063e+04, tolerance: 6.903e+03\n",
      "  model = cd_fast.enet_coordinate_descent(\n",
      "/Users/alitahseen/Desktop/FYP-2024/Machine_learning/venv/lib/python3.9/site-packages/sklearn/linear_model/_coordinate_descent.py:628: ConvergenceWarning: Objective did not converge. You might want to increase the number of iterations, check the scale of the features or consider increasing regularisation. Duality gap: 1.162e+04, tolerance: 7.125e+03\n",
      "  model = cd_fast.enet_coordinate_descent(\n",
      "/Users/alitahseen/Desktop/FYP-2024/Machine_learning/venv/lib/python3.9/site-packages/sklearn/linear_model/_coordinate_descent.py:628: ConvergenceWarning: Objective did not converge. You might want to increase the number of iterations, check the scale of the features or consider increasing regularisation. Duality gap: 1.211e+04, tolerance: 7.036e+03\n",
      "  model = cd_fast.enet_coordinate_descent(\n",
      "/Users/alitahseen/Desktop/FYP-2024/Machine_learning/venv/lib/python3.9/site-packages/sklearn/linear_model/_coordinate_descent.py:628: ConvergenceWarning: Objective did not converge. You might want to increase the number of iterations, check the scale of the features or consider increasing regularisation. Duality gap: 9.260e+03, tolerance: 3.354e+03\n",
      "  model = cd_fast.enet_coordinate_descent(\n"
     ]
    },
    {
     "name": "stdout",
     "output_type": "stream",
     "text": [
      "Best model parameters: {'alpha': 1}\n",
      "Best model score: -33.03922415244774\n"
     ]
    },
    {
     "data": {
      "text/plain": [
       "['/Users/alitahseen/Desktop/FYP-2024/Machine_learning/notebooks/Trained_Models/best_lasso_model_V2.joblib']"
      ]
     },
     "execution_count": 7,
     "metadata": {},
     "output_type": "execute_result"
    }
   ],
   "source": [
    "from sklearn.model_selection import GridSearchCV\n",
    "from sklearn.linear_model import Lasso\n",
    "from joblib import dump\n",
    "\n",
    "param_grid = {'alpha': [0.0001, 0.001, 0.01, 0.1, 1, 10, 100, 1000]}\n",
    "\n",
    "\n",
    "grid_search = GridSearchCV(Lasso(), param_grid, cv=10, scoring='neg_mean_absolute_error', verbose=1)\n",
    "\n",
    "grid_search.fit(X_train, y_train)\n",
    "\n",
    "# Extracting the best Lasso model\n",
    "best_lasso_model = grid_search.best_estimator_\n",
    "\n",
    "print(\"Best model parameters:\", grid_search.best_params_)\n",
    "print(\"Best model score:\", grid_search.best_score_)\n",
    "\n",
    "# Save the model to a file\n",
    "model_filename = '/Users/alitahseen/Desktop/FYP-2024/Machine_learning/notebooks/Trained_Models/best_lasso_model_V2.joblib'\n",
    "dump(best_lasso_model, model_filename)"
   ]
  },
  {
   "cell_type": "code",
   "execution_count": 8,
   "metadata": {},
   "outputs": [],
   "source": [
    "from joblib import load\n",
    "model_filename = '/Users/alitahseen/Desktop/FYP-2024/Machine_learning/notebooks/Trained_Models/best_lasso_model_V2.joblib'\n",
    "best_lasso_model = load(model_filename)"
   ]
  },
  {
   "cell_type": "code",
   "execution_count": 9,
   "metadata": {},
   "outputs": [
    {
     "name": "stdout",
     "output_type": "stream",
     "text": [
      "Validation Metrics: MAE=71.28286083726182, MAPE=84.00579062161529, sMAPE=82.01137699268766, RMSE=79.26918832397006\n"
     ]
    }
   ],
   "source": [
    "# Making predictions with the best model on the validation dataset\n",
    "y_validation_pred = best_lasso_model.predict(X_validation)\n",
    "validation_metrics = calculate_metrics(y_validation, y_validation_pred)\n",
    "print(f\"Validation Metrics: MAE={validation_metrics[0]}, MAPE={validation_metrics[1]}, sMAPE={validation_metrics[2]}, RMSE={validation_metrics[3]}\")"
   ]
  },
  {
   "cell_type": "code",
   "execution_count": 10,
   "metadata": {},
   "outputs": [
    {
     "name": "stdout",
     "output_type": "stream",
     "text": [
      "Test Metrics: MAE=69.31973372580401, MAPE=92.32680071761845, sMAPE=80.70576560541684, RMSE=72.03742105847527\n"
     ]
    }
   ],
   "source": [
    "# Making predictions with the best model on the test dataset\n",
    "y_test_pred = best_lasso_model.predict(X_test)\n",
    "test_metrics = calculate_metrics(y_test, y_test_pred)\n",
    "print(f\"Test Metrics: MAE={test_metrics[0]}, MAPE={test_metrics[1]}, sMAPE={test_metrics[2]}, RMSE={test_metrics[3]}\")"
   ]
  }
 ],
 "metadata": {
  "kernelspec": {
   "display_name": "venv",
   "language": "python",
   "name": "python3"
  },
  "language_info": {
   "codemirror_mode": {
    "name": "ipython",
    "version": 3
   },
   "file_extension": ".py",
   "mimetype": "text/x-python",
   "name": "python",
   "nbconvert_exporter": "python",
   "pygments_lexer": "ipython3",
   "version": "3.9.6"
  }
 },
 "nbformat": 4,
 "nbformat_minor": 2
}
